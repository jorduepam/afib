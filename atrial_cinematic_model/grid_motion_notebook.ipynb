{
 "cells": [
  {
   "cell_type": "code",
   "execution_count": 1,
   "id": "4f6db34a",
   "metadata": {},
   "outputs": [],
   "source": [
    "import numpy as np\n",
    "from grid_motion_lib import *"
   ]
  },
  {
   "cell_type": "code",
   "execution_count": 2,
   "id": "6179226f",
   "metadata": {},
   "outputs": [
    {
     "name": "stdout",
     "output_type": "stream",
     "text": [
      "TriaMesh with regular Laplace-Beltrami\n",
      "Matrix Format now: csc\n",
      "Solver: spsolve (LU decomposition) ...\n",
      "\n",
      "### Congratulations, process successfully completed!\n"
     ]
    }
   ],
   "source": [
    "vertices = np.loadtxt(\"sample1/vertices.txt\") # File with mesh vertices\n",
    "faces = np.loadtxt(\"sample1/faces.txt\", dtype=int) # File with mesh faces\n",
    "NPVs = 1 # Number of pulmonary veins (one for cyclinder sample, 4 for atrium)\n",
    "\n",
    "dVla_evolution = np.loadtxt(\"sample1/dVla_evolution.txt\") # File atrium volumetric evolution\n",
    "t_values = dVla_evolution[:,0]\n",
    "dVla = dVla_evolution[:,1]\n",
    "\n",
    "calculate_wall_movement(vertices, faces, t_values, dVla, NPVs) # Store values as VTK"
   ]
  },
  {
   "cell_type": "code",
   "execution_count": null,
   "id": "0010765c",
   "metadata": {},
   "outputs": [],
   "source": []
  }
 ],
 "metadata": {
  "kernelspec": {
   "display_name": "Python 3",
   "language": "python",
   "name": "python3"
  },
  "language_info": {
   "codemirror_mode": {
    "name": "ipython",
    "version": 3
   },
   "file_extension": ".py",
   "mimetype": "text/x-python",
   "name": "python",
   "nbconvert_exporter": "python",
   "pygments_lexer": "ipython3",
   "version": "3.7.4"
  }
 },
 "nbformat": 4,
 "nbformat_minor": 5
}
