{
 "cells": [
  {
   "cell_type": "code",
   "execution_count": 3,
   "metadata": {},
   "outputs": [],
   "source": [
    "import UAC\n",
    "import pyvista as pv"
   ]
  },
  {
   "cell_type": "code",
   "execution_count": 2,
   "metadata": {},
   "outputs": [
    {
     "name": "stdout",
     "output_type": "stream",
     "text": [
      "\n",
      "###############################\n",
      "# Universal atrial coordinates\n",
      "# Patient name: 262829\n",
      "###############################\n",
      "# 5 boundary loops detected and assigned to ['rspv', 'lspv', 'lipv', 'ripv', 'mv']\n",
      "# Calculating geodesic distances...\n",
      "DONE\n",
      "# Defining laa region...\n",
      "# Defining rspv region...\n",
      "# Defining lspv region...\n",
      "# Defining lipv region...\n",
      "# Defining ripv region...\n",
      "DONE\n",
      "# Calculating septal path...\n",
      "# Calculating RSPV-LSPV path...\n",
      "# Calculating lateral path...\n",
      "# Dividing RSPV and LSPV junctions in posterior and anterior segments...\n",
      "DONE\n",
      "# Dividing mesh in anterior and posterior parts...\n",
      "DONE\n",
      "# Calculating beta coordinate (posterior-anterior)...\n",
      "TriaMesh with regular Laplace-Beltrami\n",
      "Matrix Format now: csc\n",
      "Solver: spsolve (LU decomposition) ...\n",
      "# Duplicating septal and lateral nodes...\n",
      "# Calculating alpha coordinate (lateral-septal)...\n",
      "TriaMesh with regular Laplace-Beltrami\n",
      "Matrix Format now: csc\n",
      "Solver: spsolve (LU decomposition) ...\n",
      "# Alpha coordinate rescaling...\n",
      "DONE\n",
      "# Saving results...\n",
      "# DONE: UAC for patient 262829 completed in 11.6 seconds.\n",
      "\n"
     ]
    },
    {
     "data": {
      "text/plain": [
       "dict_keys(['xyz_vertices', 'ab_vertices', 'faces', 'old_xyz_vertices', 'old_faces', 'boundary_idx_dict', 'edges_idx_dict', 'paths_idx_dict', 'anterior_faces'])"
      ]
     },
     "execution_count": 2,
     "metadata": {},
     "output_type": "execute_result"
    }
   ],
   "source": [
    "patient_name = \"atrium1\" # Insert here patient_name\n",
    "\n",
    "# Atrial mesh file name should be \"./patient_name/patient_name_surfmesh.mat\"\n",
    "uac_results = UAC.perform_UAC(patient_name, show_figures = False, save_figures = True, return_results = True)\n",
    "uac_results.keys()"
   ]
  },
  {
   "cell_type": "code",
   "execution_count": null,
   "metadata": {},
   "outputs": [],
   "source": []
  }
 ],
 "metadata": {
  "kernelspec": {
   "display_name": "Python 3",
   "language": "python",
   "name": "python3"
  },
  "language_info": {
   "codemirror_mode": {
    "name": "ipython",
    "version": 3
   },
   "file_extension": ".py",
   "mimetype": "text/x-python",
   "name": "python",
   "nbconvert_exporter": "python",
   "pygments_lexer": "ipython3",
   "version": "3.7.4"
  }
 },
 "nbformat": 4,
 "nbformat_minor": 4
}
